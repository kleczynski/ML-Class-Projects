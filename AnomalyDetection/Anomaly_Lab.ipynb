{
 "cells": [
  {
   "cell_type": "code",
   "execution_count": 1,
   "id": "a5b903cb-8d02-4992-a98f-7764b3e0c77f",
   "metadata": {
    "pycharm": {
     "name": "#%%\n"
    }
   },
   "outputs": [],
   "source": [
    "import numpy as np\n",
    "import matplotlib.pyplot as plt\n",
    "import pandas as pd\n",
    "from scipy.io import loadmat"
   ]
  },
  {
   "cell_type": "code",
   "execution_count": 2,
   "id": "8145ab45-c3c3-42b7-b535-4b1aa44ee79d",
   "metadata": {
    "pycharm": {
     "name": "#%%\n"
    }
   },
   "outputs": [],
   "source": [
    "data = loadmat('ex8data1.mat')"
   ]
  },
  {
   "cell_type": "code",
   "execution_count": 17,
   "id": "1bc0fc5c-2273-43c5-b04f-0784fe3ca2ff",
   "metadata": {
    "pycharm": {
     "name": "#%%\n"
    }
   },
   "outputs": [],
   "source": [
    "X = data['X']\n",
    "Xval = data['Xval']"
   ]
  },
  {
   "cell_type": "code",
   "execution_count": 65,
   "id": "b84cac6b-5761-412e-9db0-4c049b598ccb",
   "metadata": {
    "pycharm": {
     "name": "#%%\n"
    }
   },
   "outputs": [
    {
     "data": {
      "text/plain": [
       "<matplotlib.collections.PathCollection at 0x7fa05ddb8f70>"
      ]
     },
     "execution_count": 65,
     "metadata": {},
     "output_type": "execute_result"
    },
    {
     "data": {
      "image/png": "[encoded data removed]",
      "text/plain": [
       "<Figure size 432x288 with 1 Axes>"
      ]
     },
     "metadata": {
      "needs_background": "light"
     },
     "output_type": "display_data"
    }
   ],
   "source": [
    "plt.scatter(X,Xval)"
   ]
  },
  {
   "cell_type": "code",
   "execution_count": 30,
   "id": "536b47fb-9048-40fb-b259-e43a8f158a75",
   "metadata": {
    "pycharm": {
     "name": "#%%\n"
    }
   },
   "outputs": [
    {
     "data": {
      "text/plain": [
       "(array([[  1.,   0.,   0.,   9., 170., 122.,   2.,   1.,   1.,   1.],\n",
       "        [  1.,   0.,   1.,   2.,  53., 219.,  30.,   0.,   0.,   1.]]),\n",
       " array([ 4.12623222,  6.14864973,  8.17106723, 10.19348473, 12.21590223,\n",
       "        14.23831974, 16.26073724, 18.28315474, 20.30557224, 22.32798975,\n",
       "        24.35040725]),\n",
       " <a list of 2 BarContainer objects>)"
      ]
     },
     "execution_count": 30,
     "metadata": {},
     "output_type": "execute_result"
    },
    {
     "data": {
      "image/png": "[encoded data removed]",
      "text/plain": [
       "<Figure size 432x288 with 1 Axes>"
      ]
     },
     "metadata": {
      "needs_background": "light"
     },
     "output_type": "display_data"
    }
   ],
   "source": [
    "plt.hist(X)"
   ]
  },
  {
   "cell_type": "code",
   "execution_count": 29,
   "id": "ac2b95c4-d5db-40eb-b6fa-349a4a3b0bf8",
   "metadata": {
    "pycharm": {
     "name": "#%%\n"
    }
   },
   "outputs": [
    {
     "data": {
      "text/plain": [
       "(array([[  1.,   0.,   2.,   0., 191., 110.,   2.,   0.,   0.,   1.],\n",
       "        [  0.,   1.,   0.,   1.,  84., 218.,   1.,   1.,   1.,   0.]]),\n",
       " array([ 0.30793846,  3.1313232 ,  5.95470793,  8.77809267, 11.60147741,\n",
       "        14.42486214, 17.24824688, 20.07163161, 22.89501635, 25.71840109,\n",
       "        28.54178582]),\n",
       " <a list of 2 BarContainer objects>)"
      ]
     },
     "execution_count": 29,
     "metadata": {},
     "output_type": "execute_result"
    },
    {
     "data": {
      "image/png": "[encoded data removed]",
      "text/plain": [
       "<Figure size 432x288 with 1 Axes>"
      ]
     },
     "metadata": {
      "needs_background": "light"
     },
     "output_type": "display_data"
    }
   ],
   "source": [
    "plt.hist(Xval)"
   ]
  },
  {
   "cell_type": "code",
   "execution_count": 43,
   "id": "edf9a38e-4817-4f16-aef1-3cb8e144e245",
   "metadata": {
    "pycharm": {
     "name": "#%%\n"
    }
   },
   "outputs": [
    {
     "name": "stdout",
     "output_type": "stream",
     "text": [
      "1.4025723408635227\n",
      "(14.528522397236973, 1.5268441479297115)\n"
     ]
    }
   ],
   "source": [
    "def estimate_gaussian(X):  \n",
    "    mu = np.mean(X)\n",
    "    sigma = np.std(X)\n",
    "    return mu, sigma\n",
    " \n",
    "print(estimate_gaussian(X)[1])\n",
    "print(estimate_gaussian(Xval))"
   ]
  },
  {
   "cell_type": "code",
   "execution_count": 41,
   "id": "66c8653e-8b99-4a9b-9984-76b014c2986c",
   "metadata": {
    "pycharm": {
     "name": "#%%\n"
    }
   },
   "outputs": [],
   "source": [
    "yval = data['yval']"
   ]
  },
  {
   "cell_type": "code",
   "execution_count": 47,
   "id": "2da5a684-f8df-436f-9560-2685ab876874",
   "metadata": {
    "pycharm": {
     "name": "#%%\n"
    }
   },
   "outputs": [
    {
     "data": {
      "text/plain": [
       "array([[1.59556663e-01, 2.81941107e-01],\n",
       "       [2.03658787e-01, 2.42548146e-01],\n",
       "       [2.75267060e-01, 1.85331552e-01],\n",
       "       [2.75232902e-01, 1.46065567e-01],\n",
       "       [2.23021560e-01, 2.66093968e-01],\n",
       "       [2.56930735e-01, 2.03415256e-01],\n",
       "       [1.32597118e-01, 2.76588419e-01],\n",
       "       [2.06620768e-01, 1.80612803e-01],\n",
       "       [1.47435938e-01, 1.42620904e-01],\n",
       "       [1.14895416e-01, 2.76002926e-01],\n",
       "       [2.61859626e-01, 1.48756551e-01],\n",
       "       [2.67362771e-01, 2.84433654e-01],\n",
       "       [2.01441403e-01, 2.19805611e-01],\n",
       "       [2.01872840e-01, 2.12387656e-01],\n",
       "       [2.61437246e-01, 1.88245581e-01],\n",
       "       [2.73809200e-01, 2.83862416e-01],\n",
       "       [2.60100699e-01, 2.81648332e-01],\n",
       "       [2.83771072e-01, 2.65878748e-01],\n",
       "       [2.84371979e-01, 1.88475675e-01],\n",
       "       [5.95251958e-02, 1.62041756e-01],\n",
       "       [2.19942233e-01, 2.22461849e-01],\n",
       "       [2.61988606e-01, 2.80545132e-01],\n",
       "       [2.72256638e-01, 1.06780230e-01],\n",
       "       [2.78037298e-01, 2.47543993e-01],\n",
       "       [2.43753657e-01, 1.52052554e-01],\n",
       "       [2.11453262e-01, 1.09715301e-01],\n",
       "       [2.27855314e-01, 2.31034310e-01],\n",
       "       [2.79571689e-01, 2.43239211e-01],\n",
       "       [2.84330558e-01, 2.84197953e-01],\n",
       "       [2.84122360e-01, 2.10776263e-01],\n",
       "       [2.23706800e-01, 2.83965584e-01],\n",
       "       [2.61134640e-01, 2.81255341e-01],\n",
       "       [1.48230416e-01, 2.79278725e-01],\n",
       "       [1.40348278e-01, 2.65466404e-01],\n",
       "       [1.64621938e-01, 1.36156114e-01],\n",
       "       [2.74640714e-01, 1.31495417e-01],\n",
       "       [9.37794726e-02, 2.74618334e-01],\n",
       "       [2.68886753e-01, 2.83513771e-01],\n",
       "       [2.84413266e-01, 2.77453107e-01],\n",
       "       [2.76556700e-01, 2.34772888e-01],\n",
       "       [2.84343081e-01, 2.62924149e-01],\n",
       "       [1.68500083e-01, 2.83627298e-01],\n",
       "       [2.84295721e-01, 2.46573586e-01],\n",
       "       [2.74587804e-01, 2.37847249e-01],\n",
       "       [2.82555623e-01, 1.99810355e-01],\n",
       "       [2.49284387e-01, 1.46411882e-01],\n",
       "       [1.67204609e-01, 2.83075354e-01],\n",
       "       [2.71500040e-01, 1.77795942e-01],\n",
       "       [2.50304444e-01, 2.81157551e-01],\n",
       "       [2.35765045e-01, 1.37931780e-01],\n",
       "       [1.84840035e-01, 2.69940798e-01],\n",
       "       [2.32928990e-01, 2.81669382e-01],\n",
       "       [2.43720962e-01, 2.82022292e-01],\n",
       "       [2.71428855e-01, 2.74457614e-01],\n",
       "       [2.84431842e-01, 2.11645254e-01],\n",
       "       [2.72968165e-01, 2.84410762e-01],\n",
       "       [2.71467801e-01, 2.42742305e-01],\n",
       "       [2.78349859e-01, 2.71342492e-01],\n",
       "       [2.81012529e-01, 2.51305193e-01],\n",
       "       [2.75947160e-01, 1.49505972e-01],\n",
       "       [1.85808437e-01, 2.28822316e-01],\n",
       "       [2.77908441e-01, 2.68494315e-01],\n",
       "       [1.44333000e-01, 1.77538713e-01],\n",
       "       [2.50902033e-01, 1.94502477e-01],\n",
       "       [2.60632034e-01, 1.78152757e-01],\n",
       "       [1.84758364e-01, 2.40400730e-01],\n",
       "       [2.36670554e-01, 1.80130190e-01],\n",
       "       [2.84281747e-01, 2.30923661e-01],\n",
       "       [2.04960962e-01, 1.10716885e-01],\n",
       "       [1.48511904e-01, 9.09582701e-02],\n",
       "       [2.24835388e-01, 2.78546050e-01],\n",
       "       [2.61603897e-01, 5.13747272e-02],\n",
       "       [2.78505888e-01, 2.06720448e-01],\n",
       "       [2.08373282e-01, 2.79719426e-01],\n",
       "       [2.81103404e-01, 2.27541307e-01],\n",
       "       [2.78872232e-01, 2.82793865e-01],\n",
       "       [2.77767329e-01, 2.16635825e-01],\n",
       "       [2.70115985e-01, 2.57508894e-01],\n",
       "       [1.68738475e-01, 2.13073898e-01],\n",
       "       [2.11435642e-01, 2.16286391e-01],\n",
       "       [2.43820236e-01, 2.70961315e-01],\n",
       "       [1.33249072e-01, 2.07208864e-01],\n",
       "       [2.33270054e-01, 2.62301539e-01],\n",
       "       [2.38539901e-01, 2.18977348e-01],\n",
       "       [2.21912663e-01, 2.24986897e-01],\n",
       "       [2.50958433e-01, 2.14723537e-01],\n",
       "       [2.28335036e-01, 2.83672093e-01],\n",
       "       [2.69491646e-01, 2.75135007e-01],\n",
       "       [2.49458632e-01, 2.51624472e-01],\n",
       "       [2.76762718e-01, 2.81355700e-01],\n",
       "       [1.82965165e-01, 2.84212597e-01],\n",
       "       [2.00837618e-01, 2.82149025e-01],\n",
       "       [2.52575670e-01, 2.72021556e-01],\n",
       "       [8.68434210e-02, 2.83857465e-01],\n",
       "       [2.80534911e-01, 2.84387053e-01],\n",
       "       [1.88205390e-01, 2.01901085e-01],\n",
       "       [1.91598156e-01, 1.65076215e-01],\n",
       "       [2.82971009e-01, 2.70597671e-01],\n",
       "       [2.82792137e-01, 1.13036262e-01],\n",
       "       [2.24664105e-01, 2.74977058e-01],\n",
       "       [7.80946571e-02, 2.81076113e-01],\n",
       "       [2.02532968e-01, 1.52728757e-01],\n",
       "       [2.61421807e-01, 1.79554608e-01],\n",
       "       [2.38664031e-01, 2.02098270e-01],\n",
       "       [2.31522339e-01, 2.33045637e-01],\n",
       "       [2.41197661e-01, 2.49953571e-01],\n",
       "       [2.03928449e-01, 1.60433181e-01],\n",
       "       [2.79923638e-01, 2.80883401e-01],\n",
       "       [2.58182886e-01, 8.77266950e-02],\n",
       "       [1.76876790e-02, 2.61281487e-01],\n",
       "       [2.54005252e-01, 2.84087299e-01],\n",
       "       [2.44559788e-01, 9.97662632e-02],\n",
       "       [1.50832280e-01, 2.59120391e-01],\n",
       "       [2.68212648e-01, 4.67901125e-02],\n",
       "       [2.74556669e-01, 1.85133406e-02],\n",
       "       [7.28246370e-02, 2.82263248e-01],\n",
       "       [2.79191731e-01, 1.74060869e-01],\n",
       "       [1.65786784e-01, 1.39361751e-01],\n",
       "       [2.51362886e-01, 2.68238205e-01],\n",
       "       [2.23930282e-01, 8.02208012e-02],\n",
       "       [2.45596848e-01, 2.84423199e-01],\n",
       "       [2.65218898e-01, 2.08149197e-01],\n",
       "       [2.83182354e-01, 2.73859266e-01],\n",
       "       [2.29507251e-01, 2.72587769e-01],\n",
       "       [2.84406688e-01, 1.97395421e-01],\n",
       "       [2.84169961e-01, 2.72958648e-01],\n",
       "       [1.63727168e-01, 2.65085061e-01],\n",
       "       [2.73956165e-01, 2.84433861e-01],\n",
       "       [1.63966944e-01, 2.02679382e-01],\n",
       "       [2.80447503e-01, 2.62445493e-01],\n",
       "       [2.77722289e-01, 2.79199695e-01],\n",
       "       [2.64070398e-01, 8.08431922e-02],\n",
       "       [2.03556051e-01, 2.84286894e-01],\n",
       "       [1.63572819e-01, 2.75165526e-01],\n",
       "       [1.17306204e-01, 2.47118126e-01],\n",
       "       [2.75085991e-01, 2.40746402e-01],\n",
       "       [2.77532288e-01, 2.83931577e-01],\n",
       "       [2.01872629e-01, 2.81233590e-01],\n",
       "       [2.24115750e-01, 2.82510508e-01],\n",
       "       [1.66346800e-01, 2.82130831e-01],\n",
       "       [2.84423551e-01, 1.22858738e-01],\n",
       "       [2.78048333e-01, 2.67771442e-01],\n",
       "       [1.44470169e-01, 1.24096965e-01],\n",
       "       [2.29160926e-01, 2.28724873e-01],\n",
       "       [2.83735241e-01, 2.71876451e-01],\n",
       "       [1.09728957e-01, 8.15370316e-02],\n",
       "       [1.58024020e-01, 2.78084784e-01],\n",
       "       [8.84004300e-03, 2.84020818e-01],\n",
       "       [1.45967500e-01, 2.84236972e-01],\n",
       "       [2.62442337e-01, 2.72700241e-01],\n",
       "       [1.04749628e-01, 2.56121150e-01],\n",
       "       [2.05877884e-01, 1.40446129e-01],\n",
       "       [1.79917621e-01, 2.81468433e-01],\n",
       "       [2.62252986e-01, 2.84368857e-01],\n",
       "       [2.10450760e-01, 2.31796755e-01],\n",
       "       [1.69969360e-01, 1.91955954e-01],\n",
       "       [2.81542530e-01, 2.69013849e-01],\n",
       "       [2.20410111e-01, 2.39474238e-01],\n",
       "       [1.52179705e-01, 2.79778600e-01],\n",
       "       [2.82043188e-01, 2.73293918e-01],\n",
       "       [2.24347194e-01, 2.56078634e-01],\n",
       "       [7.45796267e-02, 2.13928364e-01],\n",
       "       [2.32679231e-01, 1.14709264e-01],\n",
       "       [2.81283091e-01, 2.32160409e-01],\n",
       "       [2.84242932e-01, 1.94653779e-01],\n",
       "       [2.73030313e-01, 1.00885111e-01],\n",
       "       [2.66517464e-01, 2.82494119e-01],\n",
       "       [2.67836919e-01, 2.84095404e-01],\n",
       "       [1.80955246e-01, 1.26889315e-01],\n",
       "       [2.61207498e-01, 1.86690317e-01],\n",
       "       [9.22590610e-03, 2.09914029e-01],\n",
       "       [2.55831219e-01, 2.71871583e-01],\n",
       "       [8.43188374e-02, 2.60579059e-01],\n",
       "       [2.58552245e-01, 2.24557256e-01],\n",
       "       [2.43420485e-01, 2.77048416e-01],\n",
       "       [2.20104957e-01, 2.00200025e-01],\n",
       "       [2.23297198e-01, 2.29629484e-01],\n",
       "       [2.77565073e-01, 2.64827877e-01],\n",
       "       [2.44080215e-01, 2.02469035e-01],\n",
       "       [1.77486108e-01, 2.59442846e-01],\n",
       "       [2.51061487e-01, 2.45000921e-01],\n",
       "       [2.69060076e-01, 2.80035469e-01],\n",
       "       [1.11570985e-01, 2.09635481e-01],\n",
       "       [2.81779673e-01, 2.52632973e-01],\n",
       "       [2.84223057e-01, 2.84152790e-01],\n",
       "       [2.60731192e-01, 1.46167030e-01],\n",
       "       [2.61406294e-01, 2.48010255e-01],\n",
       "       [2.59720804e-01, 2.64020147e-01],\n",
       "       [1.91835656e-01, 2.82489740e-01],\n",
       "       [2.78094506e-01, 2.79667435e-01],\n",
       "       [2.37855844e-01, 2.17478614e-01],\n",
       "       [2.03715222e-01, 1.67775779e-01],\n",
       "       [2.01387527e-01, 2.81842783e-01],\n",
       "       [2.72306541e-01, 2.61083692e-01],\n",
       "       [2.78424727e-01, 2.64260926e-01],\n",
       "       [1.19170317e-01, 2.78743221e-01],\n",
       "       [2.73180540e-01, 2.82174626e-01],\n",
       "       [2.79066763e-01, 2.84195935e-01],\n",
       "       [1.62149590e-01, 2.78907600e-01],\n",
       "       [2.25895668e-01, 6.97181771e-02],\n",
       "       [1.17301528e-01, 1.90426145e-01],\n",
       "       [2.53588684e-01, 2.70966832e-01],\n",
       "       [2.64227029e-01, 2.80962677e-01],\n",
       "       [2.40668689e-01, 1.88637742e-01],\n",
       "       [2.23126668e-01, 2.76879350e-01],\n",
       "       [2.01680628e-01, 2.81266056e-01],\n",
       "       [2.35553328e-01, 1.76902224e-01],\n",
       "       [1.39238703e-01, 1.78586747e-01],\n",
       "       [2.36123844e-01, 2.35379403e-01],\n",
       "       [2.64198711e-01, 1.89179435e-01],\n",
       "       [2.84347622e-01, 1.21887962e-01],\n",
       "       [2.69988707e-01, 2.25632636e-01],\n",
       "       [2.67231553e-01, 2.42021506e-01],\n",
       "       [2.83800498e-01, 1.95966795e-01],\n",
       "       [2.83854029e-01, 2.67989111e-01],\n",
       "       [2.51113024e-01, 1.83745210e-01],\n",
       "       [2.79077492e-01, 2.64725124e-01],\n",
       "       [2.74287688e-01, 2.80684070e-01],\n",
       "       [2.43136042e-01, 1.07335057e-01],\n",
       "       [2.07852242e-01, 2.65244418e-01],\n",
       "       [2.65320918e-01, 2.82918101e-01],\n",
       "       [2.47897304e-01, 2.17004841e-01],\n",
       "       [1.08034778e-01, 2.54168739e-01],\n",
       "       [6.98249515e-02, 2.80508109e-01],\n",
       "       [2.76811654e-01, 1.24077620e-01],\n",
       "       [2.59140946e-01, 2.59979345e-01],\n",
       "       [4.06097467e-02, 2.84434605e-01],\n",
       "       [1.39873782e-01, 2.84413924e-01],\n",
       "       [2.27792996e-01, 1.17087768e-01],\n",
       "       [2.84392851e-01, 2.32391733e-01],\n",
       "       [1.12667868e-01, 2.63134208e-01],\n",
       "       [2.21418881e-01, 1.16122331e-01],\n",
       "       [2.82722388e-01, 2.54828986e-01],\n",
       "       [2.54998999e-01, 2.74158975e-01],\n",
       "       [2.66463059e-01, 2.62461999e-01],\n",
       "       [2.77695741e-01, 2.82882249e-01],\n",
       "       [2.36764661e-01, 2.42719773e-01],\n",
       "       [2.45536553e-01, 2.83173518e-01],\n",
       "       [2.83986067e-01, 1.31079034e-01],\n",
       "       [9.29133251e-02, 2.21581261e-01],\n",
       "       [2.62840867e-01, 8.49040244e-02],\n",
       "       [1.45688269e-01, 1.10245868e-01],\n",
       "       [2.36563648e-01, 2.82595060e-01],\n",
       "       [1.69021563e-01, 2.32197099e-01],\n",
       "       [2.47659892e-01, 2.69376397e-01],\n",
       "       [1.56878357e-01, 2.77812850e-01],\n",
       "       [2.84405139e-01, 1.95932290e-01],\n",
       "       [1.84733008e-01, 1.28563995e-01],\n",
       "       [1.82860914e-01, 2.43491077e-01],\n",
       "       [6.37859290e-02, 1.14943678e-01],\n",
       "       [2.82253752e-01, 1.63507474e-01],\n",
       "       [1.69462138e-01, 2.24044064e-01],\n",
       "       [2.41351994e-01, 2.30261974e-01],\n",
       "       [1.97537650e-01, 2.05529402e-01],\n",
       "       [1.64308246e-01, 2.77450229e-01],\n",
       "       [2.26870230e-01, 2.77436764e-01],\n",
       "       [2.57744868e-01, 2.73021770e-01],\n",
       "       [2.73078753e-01, 2.48174844e-01],\n",
       "       [1.81480772e-01, 2.59950949e-01],\n",
       "       [2.58490621e-01, 2.81406411e-01],\n",
       "       [2.38173948e-01, 2.02147281e-01],\n",
       "       [1.75474728e-01, 2.33510990e-01],\n",
       "       [2.01083749e-01, 2.83556380e-01],\n",
       "       [2.59254213e-01, 2.80730502e-01],\n",
       "       [2.84436077e-01, 2.66549501e-01],\n",
       "       [2.84062034e-01, 2.79625918e-01],\n",
       "       [1.88931757e-01, 2.08762696e-01],\n",
       "       [2.47527138e-01, 2.74012013e-01],\n",
       "       [2.80165186e-01, 1.36542709e-01],\n",
       "       [2.18457845e-01, 1.95421130e-01],\n",
       "       [2.80092477e-01, 2.47773305e-01],\n",
       "       [2.43469263e-01, 2.83790113e-01],\n",
       "       [2.42726829e-01, 2.69025363e-01],\n",
       "       [2.66824968e-01, 2.58325472e-01],\n",
       "       [2.46159040e-01, 1.62154433e-01],\n",
       "       [1.72868807e-01, 6.85379639e-02],\n",
       "       [1.18555484e-01, 2.62957619e-01],\n",
       "       [2.81919940e-01, 8.28593271e-02],\n",
       "       [1.86126124e-01, 2.69795074e-01],\n",
       "       [4.82211916e-02, 2.84190629e-01],\n",
       "       [1.99063459e-01, 2.57330397e-01],\n",
       "       [1.67973340e-01, 2.31689633e-01],\n",
       "       [2.73249490e-01, 2.43284549e-01],\n",
       "       [2.72261967e-01, 2.16382919e-01],\n",
       "       [2.81680290e-01, 2.30030981e-01],\n",
       "       [1.94278532e-01, 2.81326370e-01],\n",
       "       [1.59948941e-01, 2.83173694e-01],\n",
       "       [2.43825105e-01, 2.77183505e-01],\n",
       "       [2.58017693e-01, 2.25629179e-01],\n",
       "       [2.76083131e-01, 2.64997829e-01],\n",
       "       [2.48029418e-01, 2.14178987e-01],\n",
       "       [2.71294487e-01, 2.73093915e-01],\n",
       "       [2.84432144e-01, 2.77847819e-01],\n",
       "       [2.69823611e-01, 1.63453456e-01],\n",
       "       [2.84400095e-01, 2.78075750e-01],\n",
       "       [2.84363744e-01, 2.76905397e-01],\n",
       "       [2.79791199e-01, 2.50098265e-01],\n",
       "       [2.84435305e-01, 2.28093656e-01],\n",
       "       [2.76670037e-01, 1.84353040e-01],\n",
       "       [5.70119038e-02, 1.96036296e-01],\n",
       "       [1.63537633e-01, 2.89116443e-04],\n",
       "       [5.96851979e-07, 2.81091637e-13],\n",
       "       [9.48821051e-02, 2.83776216e-01],\n",
       "       [4.61152645e-04, 3.62238963e-03],\n",
       "       [8.61401576e-10, 1.31306469e-01],\n",
       "       [8.66464520e-03, 1.44668082e-02],\n",
       "       [7.04152088e-12, 7.28833175e-12]])"
      ]
     },
     "execution_count": 47,
     "metadata": {},
     "output_type": "execute_result"
    }
   ],
   "source": [
    "from scipy import stats\n",
    "Xprob = stats.norm.pdf(X, loc=estimate_gaussian(X)[0], scale=estimate_gaussian(X)[1])\n",
    "Xprob"
   ]
  },
  {
   "cell_type": "code",
   "execution_count": 51,
   "id": "180f97a0-f36f-4cfe-bb80-6d60b4517b42",
   "metadata": {
    "pycharm": {
     "name": "#%%\n"
    }
   },
   "outputs": [],
   "source": [
    "pval = np.zeros((Xval.shape[0], Xval.shape[1]))\n",
    "Xval_prob = stats.norm.pdf(Xval, loc=estimate_gaussian(Xval)[0], scale=estimate_gaussian(Xval)[1])"
   ]
  },
  {
   "cell_type": "code",
   "execution_count": 62,
   "id": "f9f39b47-9e32-43b6-b46a-a27a9d072da9",
   "metadata": {
    "pycharm": {
     "name": "#%%\n"
    }
   },
   "outputs": [
    {
     "name": "stdout",
     "output_type": "stream",
     "text": [
      "[15.79025979 13.63961877 14.86589943 13.58467605 13.46404167 12.94888838\n",
      " 15.31084155 13.89795241 11.92096525 14.85934119 13.63501268 15.75981741\n",
      " 15.221965   12.10564111 14.80848889 15.36135887 12.72914442 15.38533789\n",
      " 13.81810534 15.3788488  14.11232153 12.82415241 14.58354683 14.2948367\n",
      " 13.5112881  13.71433284 12.85788467 14.56998008 15.59049569 13.0999943\n",
      " 14.61461465 13.92751557 13.28968651 14.3283751  12.99369072 13.21733162\n",
      " 13.72874052 12.59667946 14.03082134 14.06074927 15.26965979 15.88197423\n",
      " 15.07180425 13.98475169 14.16180226 14.68681165 14.11912326 14.31950715\n",
      " 13.30913392 13.55172581 15.17132208 14.28066671 13.33650871 14.37685832\n",
      " 14.32568928 14.62490061 14.16924635 12.97208251 12.37375969 15.15445808\n",
      " 14.09323314 12.59487824 13.61531825 12.6703164  14.70384383 15.2784321\n",
      " 13.27130435 14.13665397 15.29429909 14.66965517 14.0310698  13.77413651\n",
      " 14.55210322 13.88568273 14.43425109 13.38583496 13.82625926 15.20555071\n",
      " 12.37135055 14.54985291 13.10468926 14.2203734  13.80457396 15.18526977\n",
      " 13.85934089 14.81049202 12.7991686  13.69668884 13.3206795  14.08867829\n",
      " 13.76749643 12.49858359 13.35537829 14.56724348 13.55310828 15.11251791\n",
      " 13.04640664 14.74502514 13.13972747 14.35081    13.13451519 13.87452281\n",
      " 14.76576876 13.61945237 13.54198683 14.88159033 14.74996901 14.0748595\n",
      " 12.78449324 13.61327305 14.21903476 15.5859244  11.84877236 15.1429493\n",
      " 14.60817611 15.72828976 14.55127152 13.64514063 15.18798541 13.9000606\n",
      " 13.02248185 15.14686698 14.13543106 13.733598   13.77432851 13.11413368\n",
      " 15.15066886 12.28059021 14.6988571  14.55340042 14.27355881 14.70171505\n",
      " 12.25143392 14.74878324 13.46309378 14.76333666 11.62236738 14.55053465\n",
      " 11.84160831 13.69405337 14.85251231 14.756127   13.52687052 14.61894876\n",
      " 13.36647536 13.87044181 14.48770605 14.64611411 13.34341527 13.77508716\n",
      " 12.29866617 13.85724841 13.71485307 15.39185265 14.12347745 14.49917519\n",
      " 14.07032117 14.22521319 13.39952251 14.47486797 13.60067241 14.32372317\n",
      " 15.59737154 14.58198574 14.43553655 13.23628167 15.34634414 13.93830112\n",
      " 13.19517544 13.32079853 15.03392842 15.01191645 15.10625456 13.09537682\n",
      " 13.29228733 13.70430606 13.2457956  13.48718453 13.17153906 13.44713917\n",
      " 14.11048218 14.1840563  12.1376679  13.95063382 13.33703698 14.1068043\n",
      " 14.88081172 14.36387817 12.57801724 13.41604702 12.29514655 13.97086464\n",
      " 12.96275606 14.12157545 13.34231731 13.70887357 12.70758555 13.60864644\n",
      " 13.40229831 15.15743452 14.67704336 15.16813703 14.74962918 15.24464252\n",
      " 13.63574452 13.00766971 15.34193814 13.36310859 14.9114818  14.3544372\n",
      " 14.59927642 15.32617181 13.35802796 12.37821423 14.44913697 12.98596224\n",
      " 12.25441806 13.78495344 15.53519014 12.7143176  13.84365087 14.01413774\n",
      " 12.75116532 14.53921772 12.52867075 14.82230557 13.35172448 13.10391157\n",
      " 13.16462331 14.52926811 13.90186287 14.98968267 13.58021353 14.12104239\n",
      " 12.9693767  17.07013409 15.38705988 14.1621505  13.94772461 14.67980403\n",
      " 14.47182049 13.36444751 12.02658725 14.69042218 13.21560372 14.93909926\n",
      " 15.60499508 13.03156495 15.00737263 14.52023636 14.85007496 14.59421204\n",
      " 15.78707013 13.92226956 14.95964562 14.52675873 11.77803878 12.85649088\n",
      " 13.01590318 15.15101284 14.19146054 12.183906   13.79226837 13.68881617\n",
      " 13.83500061 14.74217984 12.94303825 13.65496338 15.59498363 13.77008383\n",
      " 16.22018163 13.55607802 14.71220536 14.27820667 13.22755893 13.17133235\n",
      " 15.22006247 13.08066651 13.68249708 12.77175209 14.86570241 15.14607309\n",
      " 13.03209836 16.30279756 13.71637966 13.774717   15.06428103 12.31709854\n",
      " 14.22752068 14.68203811 14.21854325 14.38357023 14.74583961 13.76985292\n",
      " 14.02613574 12.71425699 14.22494922 14.29334503 14.95248197 14.73404568\n",
      " 19.28954011  8.7385712   0.30793846 28.54178582 19.03498788 14.37577873\n",
      "  8.77806588]\n",
      "[1.85707069e-01 2.20554519e-01 2.54984135e-01 2.15842266e-01\n",
      " 2.04913073e-01 1.53000562e-01 2.29143608e-01 2.39926779e-01\n",
      " 6.07829395e-02 2.55223901e-01 2.20166498e-01 1.88754648e-01\n",
      " 2.35681153e-01 7.41847305e-02 2.56929781e-01 2.25168505e-01\n",
      " 1.30475924e-01 2.23220315e-01 2.34479676e-01 2.23751302e-01\n",
      " 2.51756265e-01 1.40131977e-01 2.61115913e-01 2.58243107e-01\n",
      " 2.09281542e-01 2.26656587e-01 1.43595763e-01 2.61189229e-01\n",
      " 2.05147542e-01 1.68668006e-01 2.60870499e-01 2.41807692e-01\n",
      " 1.88002068e-01 2.59050253e-01 1.57648632e-01 1.80707643e-01\n",
      " 2.27789827e-01 1.17352498e-01 2.47766431e-01 2.49306666e-01\n",
      " 2.32247801e-01 1.76395409e-01 2.45257778e-01 2.45229827e-01\n",
      " 2.53856754e-01 2.59885192e-01 2.52059662e-01 2.58848735e-01\n",
      " 1.89939627e-01 2.12932365e-01 2.39126753e-01 2.57865453e-01\n",
      " 1.92647914e-01 2.59999678e-01 2.58990125e-01 2.60765507e-01\n",
      " 2.54151174e-01 1.55406198e-01 9.65245034e-02 2.40226613e-01\n",
      " 2.50880166e-01 1.17177385e-01 2.18492679e-01 1.24591459e-01\n",
      " 2.59568667e-01 2.31597178e-01 1.86161048e-01 2.52820190e-01\n",
      " 2.30405668e-01 2.60171685e-01 2.47779571e-01 2.31262952e-01\n",
      " 2.61254369e-01 2.39124116e-01 2.60787974e-01 1.97465492e-01\n",
      " 2.35059682e-01 2.36820997e-01 9.63096863e-02 2.61260032e-01\n",
      " 1.69153153e-01 2.56018052e-01 2.33505620e-01 2.38198943e-01\n",
      " 2.37358151e-01 2.56867760e-01 1.37577203e-01 2.25249146e-01\n",
      " 1.91084689e-01 2.50665774e-01 2.30764387e-01 1.07967374e-01\n",
      " 1.94500794e-01 2.61201521e-01 2.13055655e-01 2.42855415e-01\n",
      " 1.63118897e-01 2.58671914e-01 1.72766525e-01 2.59521680e-01\n",
      " 1.72229895e-01 2.38383016e-01 2.58150249e-01 2.18845996e-01\n",
      " 2.12060921e-01 2.54392346e-01 2.58551821e-01 2.50002842e-01\n",
      " 1.36081323e-01 2.18317508e-01 2.55972657e-01 2.05574263e-01\n",
      " 5.60050588e-02 2.40963235e-01 2.60930215e-01 1.91883179e-01\n",
      " 2.61256528e-01 2.21017936e-01 2.38016405e-01 2.40063404e-01\n",
      " 1.60636845e-01 2.40713765e-01 2.52768144e-01 2.28168591e-01\n",
      " 2.31277319e-01 1.70128438e-01 2.40470402e-01 8.83953310e-02\n",
      " 2.59664646e-01 2.61250847e-01 2.57667865e-01 2.59609974e-01\n",
      " 8.59291058e-02 2.58580867e-01 2.04824362e-01 2.58213824e-01\n",
      " 4.26999625e-02 2.61258377e-01 5.55451395e-02 2.25037090e-01\n",
      " 2.55468793e-01 2.58398523e-01 2.10698393e-01 2.60827698e-01\n",
      " 1.95584822e-01 2.38109405e-01 2.61192185e-01 2.60511770e-01\n",
      " 1.93327466e-01 2.31334061e-01 8.99432561e-02 2.37215403e-01\n",
      " 2.26697758e-01 2.22684448e-01 2.52251448e-01 2.61237268e-01\n",
      " 2.49781043e-01 2.56180601e-01 1.98786772e-01 2.61124251e-01\n",
      " 2.17232758e-01 2.58945611e-01 2.04503909e-01 2.61125398e-01\n",
      " 2.60801438e-01 1.82629908e-01 2.26368605e-01 2.42474938e-01\n",
      " 1.78450932e-01 1.91096473e-01 2.47356056e-01 2.48513459e-01\n",
      " 2.43234712e-01 1.68190670e-01 1.88261809e-01 2.25859387e-01\n",
      " 1.83592020e-01 2.07066152e-01 1.76033648e-01 2.03325202e-01\n",
      " 2.51673424e-01 2.54719929e-01 7.66786973e-02 2.43225282e-01\n",
      " 1.92699946e-01 2.51506766e-01 2.54422313e-01 2.59770827e-01\n",
      " 1.15542989e-01 2.00372237e-01 8.96407296e-02 2.44426656e-01\n",
      " 1.54438653e-01 2.52167906e-01 1.93219539e-01 2.26223398e-01\n",
      " 1.28309950e-01 2.17920314e-01 1.99053850e-01 2.40034252e-01\n",
      " 2.60052297e-01 2.39336330e-01 2.58560160e-01 2.34070887e-01\n",
      " 2.20228237e-01 1.59099561e-01 2.26717821e-01 1.95256388e-01\n",
      " 2.53194774e-01 2.59592716e-01 2.61005137e-01 2.27956313e-01\n",
      " 1.94760017e-01 9.69223310e-02 2.60932602e-01 1.56846510e-01\n",
      " 8.61797732e-02 2.32068041e-01 2.10243665e-01 1.28985177e-01\n",
      " 2.36279068e-01 2.46870770e-01 1.32698755e-01 2.61279118e-01\n",
      " 1.10811808e-01 2.56493313e-01 1.94142940e-01 1.69072805e-01\n",
      " 1.75324643e-01 2.61285498e-01 2.40179902e-01 2.49635346e-01\n",
      " 2.15451730e-01 2.52144427e-01 1.55125466e-01 6.53748646e-02\n",
      " 2.23078943e-01 2.53870654e-01 2.43049500e-01 2.60006139e-01\n",
      " 2.61105417e-01 1.95387050e-01 6.82417768e-02 2.59820763e-01\n",
      " 1.80531993e-01 2.52007461e-01 2.03787815e-01 1.61579354e-01\n",
      " 2.48746612e-01 2.61281681e-01 2.55555018e-01 2.61043822e-01\n",
      " 1.86027532e-01 2.41479456e-01 2.51074462e-01 2.61285354e-01\n",
      " 5.15762585e-02 1.43452347e-01 1.59954108e-01 2.40448322e-01\n",
      " 2.54995760e-01 8.03655513e-02 2.32607453e-01 2.24614298e-01\n",
      " 2.35675602e-01 2.58739826e-01 1.52394151e-01 2.21837536e-01\n",
      " 2.04727677e-01 2.30959051e-01 1.41435362e-01 2.13320151e-01\n",
      " 2.59401605e-01 2.57797683e-01 1.81746037e-01 1.76012467e-01\n",
      " 2.35814383e-01 1.66668808e-01 2.24101714e-01 1.34785698e-01\n",
      " 2.54991403e-01 2.40764425e-01 1.61634697e-01 1.33010647e-01\n",
      " 2.26818466e-01 2.31306381e-01 2.45685167e-01 9.15364065e-02\n",
      " 2.56257230e-01 2.59968169e-01 2.55955942e-01 2.60110720e-01\n",
      " 2.58652312e-01 2.30941698e-01 2.47517541e-01 1.28979094e-01\n",
      " 2.56171799e-01 2.58204373e-01 2.51404536e-01 2.58929111e-01\n",
      " 2.02183006e-03 1.97027674e-04 3.80745654e-20 1.33617025e-19\n",
      " 3.35337297e-03 2.59981352e-01 2.17261024e-04]\n"
     ]
    }
   ],
   "source": [
    "pval[:,0] = Xval_prob[:,0]\n",
    "pval[:,1] = Xval_prob[:,1]\n",
    "print(Xval[:,0])\n",
    "print(pval[:,0])"
   ]
  },
  {
   "cell_type": "code",
   "execution_count": 74,
   "id": "513ebdab-5ce0-40e8-9ec7-b485db0580a3",
   "metadata": {
    "pycharm": {
     "name": "#%%\n"
    }
   },
   "outputs": [],
   "source": [
    "from sklearn.metrics import f1_score"
   ]
  },
  {
   "cell_type": "code",
   "execution_count": 66,
   "id": "66806439-3efe-4a2a-b0bd-d202c36ee360",
   "metadata": {
    "pycharm": {
     "name": "#%%\n"
    }
   },
   "outputs": [],
   "source": [
    "def select_threshold(pval, yval): \n",
    "    pspace = np.array(np.linspace(pval.min(),pval.max(),10000))\n",
    "    best_eps = pspace[0]\n",
    "    eps = pspace[0]\n",
    "    pred = np.zeros((len(yval),1))\n",
    "    for k in range(len(yval)):\n",
    "        if pval[k,0] > eps or pval[k,1] > eps:\n",
    "            pred[k] = 1\n",
    "    best_f1 = f1_score(yval, pred)\n",
    "    for i in range(len(pspace)):\n",
    "        eps = pspace[i]\n",
    "        pred = np.zeros((len(yval),1))\n",
    "        for k in range(len(yval)):\n",
    "            if pval[k,0] < eps or pval[k,1] < eps:\n",
    "                pred[k] = 1\n",
    "        f1 = f1_score(yval, pred)\n",
    "        if f1 > best_f1:\n",
    "            best_eps = eps\n",
    "            best_f1 = f1\n",
    "    return best_eps, best_f1"
   ]
  },
  {
   "cell_type": "code",
   "execution_count": 69,
   "id": "05e5d970-6a16-4f4e-93a2-ecbead246c7a",
   "metadata": {
    "pycharm": {
     "name": "#%%\n"
    }
   },
   "outputs": [],
   "source": [
    "best_eps, best_f1 = select_threshold(pval, yval)"
   ]
  },
  {
   "cell_type": "code",
   "execution_count": 70,
   "id": "f0c295d6-b5f4-42d3-8e20-1791d9e93bed",
   "metadata": {
    "pycharm": {
     "name": "#%%\n"
    }
   },
   "outputs": [
    {
     "data": {
      "image/png": "[encoded data removed]",
      "text/plain": [
       "<Figure size 432x288 with 1 Axes>"
      ]
     },
     "metadata": {
      "needs_background": "light"
     },
     "output_type": "display_data"
    }
   ],
   "source": [
    "anomal = np.where(pval < best_eps)\n",
    "anomal = list(dict.fromkeys(anomal[0]))\n",
    "\n",
    "\n",
    "plt.figure()\n",
    "plt.scatter(Xval[:, 0], Xval[:, 1])\n",
    "plt.scatter(Xval[anomal[0]:anomal[len(anomal)-1], 0], Xval[anomal[0]:anomal[len(anomal)-1], 1], s=10, color='r')\n",
    "plt.xlabel('Throughput [mb/s]')\n",
    "plt.ylabel('Latency [ms]')\n",
    "plt.show()"
   ]
  },
  {
   "cell_type": "code",
   "execution_count": null,
   "id": "f120738f-0113-4387-b251-53439617e57e",
   "metadata": {
    "pycharm": {
     "name": "#%%\n"
    }
   },
   "outputs": [],
   "source": []
  }
 ],
 "metadata": {
  "kernelspec": {
   "display_name": "Python 3 (ipykernel)",
   "language": "python",
   "name": "python3"
  },
  "language_info": {
   "codemirror_mode": {
    "name": "ipython",
    "version": 3
   },
   "file_extension": ".py",
   "mimetype": "text/x-python",
   "name": "python",
   "nbconvert_exporter": "python",
   "pygments_lexer": "ipython3",
   "version": "3.9.12"
  }
 },
 "nbformat": 4,
 "nbformat_minor": 5
}