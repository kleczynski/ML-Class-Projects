{
 "cells": [
  {
   "cell_type": "markdown",
   "id": "9abe2f6d-3d2f-4949-90ac-5d8a18ef8804",
   "metadata": {},
   "source": [
    "# Import dependencies "
   ]
  },
  {
   "cell_type": "code",
   "execution_count": 1,
   "id": "0ce710a4-e067-4fdc-ac33-ac8632fb7825",
   "metadata": {},
   "outputs": [],
   "source": [
    "import numpy as np\n",
    "import pandas as pd\n",
    "import matplotlib.pyplot as plt\n",
    "import sklearn"
   ]
  },
  {
   "cell_type": "markdown",
   "id": "207c6925-7a90-41ca-88f1-37ee492a6ecb",
   "metadata": {},
   "source": [
    "# Loading dataset"
   ]
  },
  {
   "cell_type": "code",
   "execution_count": 2,
   "id": "b9d6a2b4-6809-4103-a6f2-45d2e8903543",
   "metadata": {},
   "outputs": [],
   "source": [
    "from sklearn.datasets import load_wine"
   ]
  },
  {
   "cell_type": "code",
   "execution_count": 3,
   "id": "93c450a0-5bb8-4985-85db-9b3b9d056719",
   "metadata": {},
   "outputs": [],
   "source": [
    "df = load_wine()"
   ]
  },
  {
   "cell_type": "markdown",
   "id": "7ef81626-35fe-43dc-8225-ae4c91d81b94",
   "metadata": {},
   "source": [
    "### Import models"
   ]
  },
  {
   "cell_type": "code",
   "execution_count": 5,
   "id": "0102071e-a29e-473d-8716-787ec1a9c008",
   "metadata": {},
   "outputs": [],
   "source": [
    "from sklearn.tree import DecisionTreeClassifier\n",
    "from sklearn.ensemble import BaggingClassifier\n",
    "from sklearn.ensemble import AdaBoostClassifier\n",
    "from sklearn.ensemble import GradientBoostingClassifier\n",
    "\n",
    "from sklearn.model_selection import cross_val_score"
   ]
  },
  {
   "cell_type": "code",
   "execution_count": 6,
   "id": "df18c8ba-e388-4050-858b-1d334c97c9f5",
   "metadata": {},
   "outputs": [],
   "source": [
    "X, y = df.data, df.target"
   ]
  },
  {
   "cell_type": "code",
   "execution_count": 10,
   "id": "29537023-b523-4abf-a236-c118104fbdf2",
   "metadata": {},
   "outputs": [
    {
     "name": "stdout",
     "output_type": "stream",
     "text": [
      "Decision tree scores: [0.94444444 0.80555556 0.80555556 0.91428571 0.97142857], (avg: 0.8882539682539681)\n",
      "Bagging scores: [0.91666667 0.94444444 0.88888889 0.97142857 1.        ], (avg: 0.9442857142857143)\n",
      "AdaBoost scores: [0.83333333 0.88888889 0.91666667 1.         1.        ], (avg: 0.9277777777777778)\n",
      "Gradient boosting scores: [0.94444444 0.94444444 0.97222222 0.97142857 1.        ], (avg: 0.9665079365079364)\n"
     ]
    }
   ],
   "source": [
    "\n",
    "clf = DecisionTreeClassifier(random_state=1, min_samples_leaf=3)\n",
    "cv = cross_val_score(clf, X, y, cv=5)\n",
    "print(f'Decision tree scores: {cv}, (avg: {np.mean(cv)})')\n",
    "\n",
    "clf = BaggingClassifier(n_estimators=10, random_state=1)\n",
    "cv = cross_val_score(clf, X, y, cv=5)\n",
    "print(f'Bagging scores: {cv}, (avg: {np.mean(cv)})')\n",
    "\n",
    "clf = AdaBoostClassifier(n_estimators=100, random_state=1, algorithm='SAMME')\n",
    "cv = cross_val_score(clf, X, y, cv=5)\n",
    "print(f'AdaBoost scores: {cv}, (avg: {np.mean(cv)})')\n",
    "\n",
    "clf = GradientBoostingClassifier(n_estimators=100, learning_rate=1.0, subsample=0.5, random_state=1, min_samples_leaf=3)\n",
    "cv = cross_val_score(clf, X, y, cv=5)\n",
    "print(f'Gradient boosting scores: {cv}, (avg: {np.mean(cv)})')"
   ]
  },
  {
   "cell_type": "code",
   "execution_count": 11,
   "id": "609d0fba-565e-4122-b61f-acc2602b6c45",
   "metadata": {},
   "outputs": [
    {
     "data": {
      "text/plain": [
       "Text(0, 0.5, 'OOB loss')"
      ]
     },
     "execution_count": 11,
     "metadata": {},
     "output_type": "execute_result"
    },
    {
     "data": {
      "image/png": "[encoded data removed]",
      "text/plain": [
       "<Figure size 432x288 with 1 Axes>"
      ]
     },
     "metadata": {
      "needs_background": "light"
     },
     "output_type": "display_data"
    }
   ],
   "source": [
    "clf = GradientBoostingClassifier(n_estimators=100, learning_rate=1.0, subsample=0.5, random_state=1, min_samples_leaf=3).fit(X,y)\n",
    "oob = np.cumsum(clf.oob_improvement_)\n",
    "plt.plot(oob)\n",
    "plt.xlabel('Number of iterations')\n",
    "plt.ylabel('OOB loss')"
   ]
  },
  {
   "cell_type": "code",
   "execution_count": null,
   "id": "30fa0c94-98c6-4fa7-b11c-78b5c2a8a313",
   "metadata": {},
   "outputs": [],
   "source": []
  }
 ],
 "metadata": {
  "kernelspec": {
   "display_name": "Python 3 (ipykernel)",
   "language": "python",
   "name": "python3"
  },
  "language_info": {
   "codemirror_mode": {
    "name": "ipython",
    "version": 3
   },
   "file_extension": ".py",
   "mimetype": "text/x-python",
   "name": "python",
   "nbconvert_exporter": "python",
   "pygments_lexer": "ipython3",
   "version": "3.9.12"
  }
 },
 "nbformat": 4,
 "nbformat_minor": 5
}
